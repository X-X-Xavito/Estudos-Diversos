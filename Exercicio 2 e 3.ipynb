{
 "cells": [
  {
   "cell_type": "markdown",
   "metadata": {},
   "source": [
    "### Exercicio 2\n",
    "\n",
    "Crie um script em python que faça a entradas de 3 valores:\n",
    "\n",
    "-Data\n",
    "\n",
    "-Temperatura minima\n",
    "\n",
    "-Temperatura máxima\n",
    "\n",
    "Armazene estes valore em arquivo CSV, cada valor vai ocupar uma coluna e o arquivo deve ser atualizado a cada execução do script (3,0)"
   ]
  },
  {
   "cell_type": "code",
   "execution_count": null,
   "metadata": {},
   "outputs": [],
   "source": [
    "import csv \n",
    "import numpy as np\n",
    "import matplotlib.pyplot as plt\n",
    "\n",
    "# Importar todas as bibliotecas\n"
   ]
  },
  {
   "cell_type": "code",
   "execution_count": null,
   "metadata": {},
   "outputs": [],
   "source": [
    "# Criar o arquivo csv vazio\n",
    "\n",
    "with open('mycsv.csv', 'w', newline='') as f:\n",
    "    thewriter = csv.writer(f)    \n",
    "    f.close()\n"
   ]
  },
  {
   "cell_type": "code",
   "execution_count": null,
   "metadata": {},
   "outputs": [],
   "source": [
    "# escreve no arquivo CSV a cada vez que o SCRIPT rodar\n",
    "with open('mycsv.csv', 'a', newline='') as f:\n",
    "    thewriter = csv.writer(f)\n",
    "    \n",
    "    data = int(input('Digite o dia: '))\n",
    "    \n",
    "    while (data>31) or (data<1):\n",
    "        print('Data inválida!')\n",
    "        data = int(input('Digite o dia: '))\n",
    "        \n",
    "    tempMin = float(input('Digite a Temperatura Mínima do dia: '))\n",
    "    tempMax = float(input('Digite a Temperatura Máxima do dia: '))\n",
    "    amplT = (tempMax - tempMin)\n",
    "    \n",
    "    thewriter.writerow([data,tempMin,tempMax, amplT])\n",
    "    f.close()\n",
    "    \n",
    "    \n"
   ]
  },
  {
   "cell_type": "markdown",
   "metadata": {},
   "source": [
    "##### Fim do Exercicio 2"
   ]
  },
  {
   "cell_type": "markdown",
   "metadata": {},
   "source": [
    "### Exercicio 3 \n",
    "\n",
    "Crie um script python que leia um arquivo CSV gerado acima e extraia as seguintes informações e formato de graficos usando a biblioteca: matplotlib (4,0)\n",
    "\n",
    "1 - grafico de linhas da amplitude termica dia a dia\n",
    "\n",
    "2 - grafico de linha das com eixo para maiores temperaturas e eixo para as menores temperaturas dia a dia\n",
    "\n",
    "3 - Faça a media de temperaturas dos dias e agrupe os valores na seguinte distribuição, criando um grafico de pizza\n",
    "\n",
    "0 a 15,99\n",
    "\n",
    "16 a 19,99\n",
    "\n",
    "20,00 a 25,99\n",
    "\n",
    "26 a 29,99\n",
    "\n",
    "30 a 35,99\n",
    "\n",
    "36 a 40,99\n",
    "\n",
    "Acima de 41"
   ]
  },
  {
   "cell_type": "code",
   "execution_count": null,
   "metadata": {},
   "outputs": [],
   "source": [
    "# Exercicio 3 \n",
    "\n",
    "csvFile = open('mycsv.csv','r')\n",
    "tempDia = csv.reader(csvFile)\n",
    "\n",
    "\n",
    "amplitude =[]\n",
    "datas = []\n",
    "maiores = []\n",
    "menores = []\n",
    "\n",
    "medias = [0,0,0,0,0,0,0] # contador por faixa\n",
    "catMedias = [   '0 a 15,99', '16 a 19,99',\n",
    "                '20,00 a 25,99', '26 a 29,99',\n",
    "'30 a 35,99', '36 a 40,99', 'Acima de 41'] # labels por faixa\n",
    "\n",
    "for row in tempDia:\n",
    "    maiores.append(float(row[2]))\n",
    "    menores.append(float(row[1]))\n",
    "    amplitude.append(float(row[3]))\n",
    "    datas.append(row[0])    \n",
    "    media = (float(row[1]) + float(row[2]) ) / 2"
   ]
  },
  {
   "cell_type": "code",
   "execution_count": null,
   "metadata": {},
   "outputs": [],
   "source": [
    "if media < 16:\n",
    "    medias[0] = medias[0] + 1\n",
    "elif media >= 16 and media < 20:\n",
    "    medias[1] = medias[1] + 1\n",
    "elif media >= 20 and media < 26:\n",
    "    medias[2] = medias[2] + 1\n",
    "elif media >= 26 and media < 30:\n",
    "    medias[3] = medias[3] + 1\n",
    "elif media >= 30 and media < 36:\n",
    "    medias[4] = medias[4] + 1\n",
    "elif media >= 36 and media < 41:\n",
    "    medias[5] = medias[5] + 1\n",
    "else :\n",
    "    medias[6] = medias[6] + 1"
   ]
  },
  {
   "cell_type": "code",
   "execution_count": null,
   "metadata": {},
   "outputs": [],
   "source": [
    "# /*Gerando gráfico para amplitude térmica*/\n",
    "\n",
    "\n",
    "plt.plot(datas, amplitude)#eixos X e Y\n",
    "plt.ylabel('Amplitude')\n",
    "plt.xlabel('Dias')\n",
    "plt.title('Amplitude térmica diária')\n",
    "plt.show()\n"
   ]
  },
  {
   "cell_type": "code",
   "execution_count": null,
   "metadata": {},
   "outputs": [],
   "source": [
    "# /*Gerando gráfico para temperaturas máxima e mínima*/\n",
    "\n",
    "plt.plot(datas, menores, maiores)\n",
    "plt.ylabel('Max e Min')\n",
    "plt.xlabel('dias')\n",
    "plt.title('Temperaturas Max e Min')\n",
    "plt.show()"
   ]
  },
  {
   "cell_type": "code",
   "execution_count": null,
   "metadata": {},
   "outputs": [],
   "source": [
    "# Gráfico em Pizza\n",
    "\n",
    "fig1, ax1 = plt.subplots(figsize=(20,10))\n",
    "ax1.pie(medias, autopct='%1.1f%%', startangle=90)\n",
    "plt.legend()\n",
    "plt.title('Media Temperaturas Diarias')\n",
    "ax1.legend(loc=4, labels= catMedias)\n",
    "plt.show()"
   ]
  }
 ],
 "metadata": {
  "kernelspec": {
   "display_name": "Python 3",
   "language": "python",
   "name": "python3"
  },
  "language_info": {
   "codemirror_mode": {
    "name": "ipython",
    "version": 3
   },
   "file_extension": ".py",
   "mimetype": "text/x-python",
   "name": "python",
   "nbconvert_exporter": "python",
   "pygments_lexer": "ipython3",
   "version": "3.7.0"
  }
 },
 "nbformat": 4,
 "nbformat_minor": 2
}
